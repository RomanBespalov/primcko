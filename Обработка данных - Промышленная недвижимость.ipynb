{
 "cells": [
  {
   "cell_type": "markdown",
   "id": "2bfc5e7a-85b3-4847-b561-e8b6bd870643",
   "metadata": {},
   "source": [
    "# Обработка данных - Промышленная недвижимость"
   ]
  },
  {
   "cell_type": "markdown",
   "id": "90c8980e-637c-44d7-bdf5-8edb097e5a65",
   "metadata": {},
   "source": [
    "## 1. Загружаем файлы и объединяем в один датафрейм"
   ]
  },
  {
   "cell_type": "code",
   "execution_count": 222,
   "id": "c35bd666-37ae-45b1-b9fd-20b9e8206c09",
   "metadata": {},
   "outputs": [
    {
     "data": {
      "text/html": [
       "<style>:root { --jp-notebook-max-width: 90% !important; }</style>"
      ],
      "text/plain": [
       "<IPython.core.display.HTML object>"
      ]
     },
     "metadata": {},
     "output_type": "display_data"
    }
   ],
   "source": [
    "# Расширяем режим просмотра Jupyter\n",
    "from IPython.display import display, HTML\n",
    "display(HTML(\"<style>:root { --jp-notebook-max-width: 90% !important; }</style>\"))"
   ]
  },
  {
   "cell_type": "code",
   "execution_count": 223,
   "id": "0708e403-cdcb-4742-ad2f-888c32aa0175",
   "metadata": {},
   "outputs": [],
   "source": [
    "# Загружаем библиотеки\n",
    "\n",
    "# Стандартные библиотеки\n",
    "import os\n",
    "import random\n",
    "import re\n",
    "\n",
    "# Сторонние библиотеки\n",
    "from geopy.geocoders import Nominatim\n",
    "import numpy as np\n",
    "import pandas as pd\n",
    "import pymorphy2\n",
    "from rutermextract import TermExtractor\n",
    "from tqdm import tqdm\n",
    "\n",
    "# Инициализация анализатора, экстрактора терминов и отображение прогресс бара в pandas\n",
    "morph = pymorphy2.MorphAnalyzer()\n",
    "term_extractor = TermExtractor()\n",
    "tqdm.pandas()"
   ]
  },
  {
   "cell_type": "code",
   "execution_count": 224,
   "id": "e5c0394a-93cf-4e11-a2b7-cea32d0b89e7",
   "metadata": {},
   "outputs": [],
   "source": [
    "# Константы\n",
    "\n",
    "# Путь к файлам на рабочем компьютере\n",
    "DIR = 'L:/Беспалов Р.А/Обработка рынка Брянск/'\n",
    "\n",
    "# Путь к исходным данным\n",
    "PATH_INITIAL_DATA = os.path.join(DIR, 'Исходники рынок Брянск - промышленная недвижимость/')\n",
    "\n",
    "# Путь к папке для хранения очищенных данных\n",
    "PATH_CLEAN_DATA = os.path.join(DIR, 'Очищенные данные/')\n",
    "\n",
    "# Путь к вспомогательным файлам\n",
    "PATH_SUPPORT_DATA = os.path.join(DIR, 'Вспомогательные файлы/')\n",
    "\n",
    "# Путь хранения найденных адрес-координат\n",
    "PATH_ADDRESS_COORD_DATA = os.path.join(DIR, 'Адрес-координаты/')\n",
    "\n",
    "# Путь к словарям\n",
    "PATH_DICT_DATA = os.path.join(DIR, 'Словари/')\n",
    "\n",
    "# Дополнительные данные для тестов\n",
    "PATH_TEST_DATA = os.path.join(DIR, 'Данные для тестов/')"
   ]
  },
  {
   "cell_type": "code",
   "execution_count": 225,
   "id": "ff2b2b62-da2f-46ff-8abe-321f4c462da5",
   "metadata": {},
   "outputs": [],
   "source": [
    "# Установим рабочий каталог\n",
    "os.chdir(DIR)"
   ]
  },
  {
   "cell_type": "code",
   "execution_count": 226,
   "id": "c6d3faf3-bf93-4f8a-890b-cc4b3391a4ab",
   "metadata": {},
   "outputs": [],
   "source": [
    "# Получаем список файлов\n",
    "files = os.listdir(PATH_INITIAL_DATA)"
   ]
  },
  {
   "cell_type": "code",
   "execution_count": 227,
   "id": "faf1027e-02cc-47c7-9016-416436da6dff",
   "metadata": {
    "scrolled": true
   },
   "outputs": [
    {
     "name": "stderr",
     "output_type": "stream",
     "text": [
      "100%|██████████████████████████████████████████████████████████████████████████████████| 18/18 [00:54<00:00,  3.00s/it]"
     ]
    },
    {
     "name": "stdout",
     "output_type": "stream",
     "text": [
      "Количество строк df = 27923\n"
     ]
    },
    {
     "name": "stderr",
     "output_type": "stream",
     "text": [
      "\n"
     ]
    }
   ],
   "source": [
    "def sum_data():\n",
    "    \"\"\"Создает датафрейм из исходных данных.\"\"\"\n",
    "    # Создаем список для хранения датафреймов\n",
    "    data = []\n",
    "\n",
    "    # Итерируемся по каждому файлу\n",
    "    for file in tqdm(files):\n",
    "        if file.split('.')[-1] == 'xlsx':\n",
    "            # Создаем путь к каждму файлу\n",
    "            path_file = os.path.join(PATH_INITIAL_DATA, file)\n",
    "            # добавляем в список каждый датафрейм\n",
    "            table = pd.read_excel(path_file)\n",
    "            table['Имя файла'] = file\n",
    "            data.append(table)\n",
    "    \n",
    "    # Объединяем в один Датафрейм и обнуляем индексы\n",
    "    df = pd.concat(data, axis=0, ignore_index=True)\n",
    "    print('Количество строк df =', len(df))\n",
    "    return df\n",
    "\n",
    "df = sum_data()"
   ]
  },
  {
   "cell_type": "code",
   "execution_count": 228,
   "id": "8a351e93-ab98-452f-80d9-601d88bdd258",
   "metadata": {
    "scrolled": true
   },
   "outputs": [],
   "source": [
    "def sum_test_data():\n",
    "    \"\"\"Создает датафрейм из исходных и тестовых данных.\"\"\"\n",
    "    # Создаем список для хранения датафреймов\n",
    "    data = []\n",
    "    # путь к тестовым данным\n",
    "    path_test_data = os.path.join(PATH_TEST_DATA, 'проверить_квартиры_v13.xlsx')\n",
    "    # Итерируемся по каждому файлу\n",
    "    for file in tqdm(files):\n",
    "        if file.split('.')[-1] == 'xlsx':\n",
    "            # Создаем путь к каждму файлу\n",
    "            path_file = os.path.join(PATH_INITIAL_DATA, file)\n",
    "            # добавляем в список каждый датафрейм\n",
    "            data.append(pd.read_excel(path_file))\n",
    "    # добавляем тестовые данные\n",
    "    data.append(pd.read_excel(path_test_data))\n",
    "    # Объединяем в один Датафрейм и обнуляем индексы\n",
    "    df = pd.concat(data, axis=0, ignore_index=True)\n",
    "    print('Количество строк df_777 =', len(df))\n",
    "    return df"
   ]
  },
  {
   "cell_type": "markdown",
   "id": "aea02241-0521-462d-b808-4ed6d033c041",
   "metadata": {},
   "source": [
    "## 2. Очищаем и фильтруем данные"
   ]
  },
  {
   "cell_type": "code",
   "execution_count": 229,
   "id": "79ef1218-ebcb-4050-ab45-84d6bd4f6fdd",
   "metadata": {},
   "outputs": [],
   "source": [
    "def clean_data(df):\n",
    "    \"\"\"Унифицируем поля\"\"\"\n",
    "    # в столбце \"Текст объявления\" встречаются ячейки, начинающиеся со знака \"=\",\n",
    "    # поэтому при выгрузке в эксель файл, он думает, что это формула, поэтому исправляем, убирая знак \"=\"\n",
    "    df['Текст объявления'] = df['Текст объявления'].str.replace(r'^=', '', regex=True)\n",
    "    \n",
    "    # Унифицируем дату\n",
    "    df['Дата объявления'] = pd.to_datetime(df['Дата объявления'], dayfirst=True)\n",
    "    df['Дата предложения'] = pd.to_datetime(df['Дата предложения'], dayfirst=True)\n",
    "    \n",
    "    # Преобразовываем тип данных object в float\n",
    "    df['Площадь объекта(м²)'] = df['Площадь объекта(м²)'].replace(',', '.', regex=True)\n",
    "    df['Площадь объекта(м²)'] = df['Площадь объекта(м²)'].astype('float64')\n",
    "    \n",
    "    df['Цена(₽/м²)'] = df['Цена(₽/м²)'].replace(',', '.', regex=True)\n",
    "    df.loc[df['Цена(₽/м²)'].str.lower() == 'смотреть цена указана за кв. м или за весь объект', 'Цена(₽/м²)'] = None\n",
    "    df['Цена(₽/м²)'] = df['Цена(₽/м²)'].astype('float64')\n",
    "    \n",
    "    df['Цена(₽)'] = df['Цена(₽)'].astype('float64')\n",
    "    return df\n",
    "\n",
    "df = clean_data(df)"
   ]
  },
  {
   "cell_type": "code",
   "execution_count": 230,
   "id": "763cee21-749e-46dd-842f-6c9e993f6927",
   "metadata": {},
   "outputs": [],
   "source": [
    "# Статистика\n",
    "control_count_result = pd.pivot_table(df, \n",
    "                                      values='Дата объявления', \n",
    "                                      index='Имя файла',\n",
    "                                      aggfunc='count').rename(columns = {'Дата объявления': 'Исходное количество записей'})"
   ]
  },
  {
   "cell_type": "code",
   "execution_count": 231,
   "id": "a0e567ea-9b2e-4d2e-a71f-5afb65a6d0d5",
   "metadata": {},
   "outputs": [],
   "source": [
    "def emissions_1(df):\n",
    "    \"\"\"Исключает и выделяет в отдельные файлы по параметрам\"\"\"\n",
    "    # гараж, машиноместо или паркинг выделяем в отдельный файл\n",
    "    df_garage = df[df['Категория'] == 'гараж, машиноместо или паркинг']\n",
    "    # df_garage.to_excel(PATH_CLEAN_DATA + 'гараж, машиноместо или паркинг.xlsx', index=False)\n",
    "    \n",
    "    # исключаем гараж, машиноместо или паркинг из общего датафрейма\n",
    "    df = df[df['Категория'] != 'гараж, машиноместо или паркинг']\n",
    "    return df\n",
    "\n",
    "def emissions_2(df):\n",
    "    # Исключаем строки для которых значение столбца 'Тип предложения' == 'аренда'\n",
    "    df = df.loc[df['Тип предложения'] != 'аренда']\n",
    "    \n",
    "    # Сброс индексов, drop=True - удаляет старые индексы\n",
    "    df = df.reset_index(drop=True)\n",
    "    print('Количество строк df =', len(df))\n",
    "    return df"
   ]
  },
  {
   "cell_type": "code",
   "execution_count": 232,
   "id": "404328f1-710c-4702-ad04-19acdbff24e4",
   "metadata": {},
   "outputs": [],
   "source": [
    "# Статистика\n",
    "control_count_temp = pd.pivot_table(df[df['Категория'] == 'гараж, машиноместо или паркинг'], \n",
    "                                      values='Дата объявления', \n",
    "                                      index='Имя файла',\n",
    "                                      aggfunc='count').rename(columns = {'Дата объявления': 'Выбросы гараж, машиноместо или паркинг'})\n",
    "\n",
    "control_count_result = pd.merge(control_count_result, control_count_temp,\n",
    "                                left_on = 'Имя файла',\n",
    "                                right_on = 'Имя файла',\n",
    "                                how = 'left').fillna(0)"
   ]
  },
  {
   "cell_type": "code",
   "execution_count": 233,
   "id": "91bbec00-eb9c-4828-b6ea-5b189b003fe8",
   "metadata": {},
   "outputs": [],
   "source": [
    "df = emissions_1(df)"
   ]
  },
  {
   "cell_type": "code",
   "execution_count": 234,
   "id": "3ab63477-7098-41ba-be21-3b7865720a1a",
   "metadata": {},
   "outputs": [],
   "source": [
    "# Статистика\n",
    "control_count_temp = pd.pivot_table(df.loc[df['Тип предложения'] == 'аренда'], \n",
    "                                      values='Дата объявления', \n",
    "                                      index='Имя файла',\n",
    "                                      aggfunc='count').rename(columns = {'Дата объявления': 'Предложения аренда'})\n",
    "\n",
    "control_count_result = pd.merge(control_count_result, control_count_temp,\n",
    "                                left_on = 'Имя файла',\n",
    "                                right_on = 'Имя файла',\n",
    "                                how = 'left').fillna(0)"
   ]
  },
  {
   "cell_type": "code",
   "execution_count": 235,
   "id": "64e2d012-d836-43a0-821d-6411644a6846",
   "metadata": {},
   "outputs": [
    {
     "name": "stdout",
     "output_type": "stream",
     "text": [
      "Количество строк df = 1764\n"
     ]
    }
   ],
   "source": [
    "df = emissions_2(df)"
   ]
  },
  {
   "cell_type": "code",
   "execution_count": 236,
   "id": "7cee8207-576a-4b7c-aeb1-7869fa7e6c68",
   "metadata": {},
   "outputs": [
    {
     "name": "stdout",
     "output_type": "stream",
     "text": [
      "Пустых или нулевых значений в столбце \"Цена(₽)\" нет!\n"
     ]
    }
   ],
   "source": [
    "def check_price(df):\n",
    "    \"\"\"Проверка 'Цена(₽)' на 0 и на пустое значение.\"\"\"\n",
    "\n",
    "    # Булева операция на поиск пустых ячеек в столбце 'Цена(₽)'\n",
    "    mask_none_price = df['Цена(₽)'].isnull() # это булевая серия\n",
    "\n",
    "    # Булева операция на поиск значения 0 в ячейках в столбце 'Цена(₽)'\n",
    "    mask_0_price = df['Цена(₽)'] == 0 # это булевая серия\n",
    "\n",
    "    messages = []\n",
    "    if mask_none_price.any():\n",
    "        messages.append('Найдены пустые значения в столбце \"Цена(₽)\"')\n",
    "    if mask_0_price.any():\n",
    "        messages.append('Найдены нулевые значения в столбце \"Цена(₽)\"')\n",
    "    if not messages:\n",
    "        messages.append('Пустых или нулевых значений в столбце \"Цена(₽)\" нет!')\n",
    "    return '\\n'.join(messages)\n",
    "\n",
    "print(check_price(df))"
   ]
  },
  {
   "cell_type": "code",
   "execution_count": 237,
   "id": "53632dd6-5e04-40b8-b9cc-4d80efc86f3c",
   "metadata": {},
   "outputs": [
    {
     "name": "stdout",
     "output_type": "stream",
     "text": [
      "Найдены пустые значения в столбце \"Площадь объекта(м²)\"\n"
     ]
    }
   ],
   "source": [
    "def check_area(df):\n",
    "    \"\"\"Проверка 'Площадь объекта(м²)' на 0 и на пустое значение.\"\"\"\n",
    "    # Булева операция на поиск пустых ячеек в столбце 'Цена(₽)'\n",
    "    mask_none_area = df['Площадь объекта(м²)'].isnull() # это булевая серия\n",
    "    \n",
    "    # Булева операция на поиск значения 0 в ячейках в столбце 'Цена(₽)'\n",
    "    mask_0_area = df['Площадь объекта(м²)'] == 0 # это булевая серия\n",
    "\n",
    "    messages = []\n",
    "    if mask_none_area.any():\n",
    "        messages.append('Найдены пустые значения в столбце \"Площадь объекта(м²)\"')\n",
    "    if mask_0_area.any():\n",
    "        messages.append('Найдены нулевые значения в столбце \"Площадь объекта(м²)\"')\n",
    "    if not messages:\n",
    "        messages.append('Пустых или нулевых значений в столбце \"Площадь объекта(м²)\" нет!')\n",
    "    print('\\n'.join(messages))\n",
    "    return mask_none_area\n",
    "\n",
    "mask_none_area = check_area(df)"
   ]
  },
  {
   "cell_type": "code",
   "execution_count": 238,
   "id": "7fd6b721-5aa2-4f4a-8e28-b69d8267ed05",
   "metadata": {},
   "outputs": [
    {
     "name": "stdout",
     "output_type": "stream",
     "text": [
      "Нет параметра \"Цена(₽/м²)\" для того чтобы определить площадь\n"
     ]
    }
   ],
   "source": [
    "def find_area_by_price_square(df):\n",
    "    \"\"\"Проверяет поля для определения площади.\"\"\"\n",
    "    # Пытаемся определить площадь, если известна цена за 1 кв.м и общая стоимость\n",
    "    # площадь = общая стоимость/цена за 1 кв.м\n",
    "    df_area_none = df[mask_none_area]\n",
    "    df_area_none = df_area_none[(df_area_none['Цена(₽/м²)'] != 0) & (df_area_none['Цена(₽/м²)'].notnull())]\n",
    "    if len(df_area_none):\n",
    "        return 'Есть данные'\n",
    "    else:\n",
    "        return 'Нет параметра \"Цена(₽/м²)\" для того чтобы определить площадь'\n",
    "\n",
    "print(find_area_by_price_square(df))"
   ]
  },
  {
   "cell_type": "code",
   "execution_count": 239,
   "id": "e7f64399-75bb-49d7-a8d0-90c258629d08",
   "metadata": {},
   "outputs": [
    {
     "name": "stdout",
     "output_type": "stream",
     "text": [
      "Количество строк df_area_none = 126\n"
     ]
    }
   ],
   "source": [
    "def save_none_area(df):\n",
    "    \"\"\"Создаем отдельный датафрейм, значения строк у которых 'Площадь объекта(м²)' является пустым.\"\"\"\n",
    "    df_area_none = df[mask_none_area]\n",
    "    df_area_none = df_area_none.reset_index(drop=True)\n",
    "    # Сохраняем датафрейм в ексель файл \"Промышленная_недвижимость_без_площади.xlsx\"\n",
    "    # df_area_none.to_excel(PATH_CLEAN_DATA + 'промышленная_недвижимость_без_площади.xlsx', index=False)\n",
    "    print('Количество строк df_area_none =', len(df_area_none))\n",
    "\n",
    "save_none_area(df)"
   ]
  },
  {
   "cell_type": "code",
   "execution_count": 240,
   "id": "1a0053e3-2953-449b-ae00-088f396c6a42",
   "metadata": {},
   "outputs": [],
   "source": [
    "# Статистика\n",
    "control_count_temp = pd.pivot_table(df[df['Площадь объекта(м²)'].isnull()], \n",
    "                                      values='Дата объявления', \n",
    "                                      index='Имя файла',\n",
    "                                      aggfunc='count').rename(columns = {'Дата объявления': 'Записи без площади'})\n",
    "\n",
    "control_count_result = pd.merge(control_count_result, control_count_temp,\n",
    "                                left_on = 'Имя файла',\n",
    "                                right_on = 'Имя файла',\n",
    "                                how = 'left').fillna(0)"
   ]
  },
  {
   "cell_type": "code",
   "execution_count": 241,
   "id": "1501f6b3-fdea-42f1-ab4c-e8b26693cc88",
   "metadata": {},
   "outputs": [
    {
     "name": "stdout",
     "output_type": "stream",
     "text": [
      "Количество строк df = 1638\n"
     ]
    }
   ],
   "source": [
    "def update(df):\n",
    "    # Исключаем из результирующего датафрейма пустые значения для столбца 'Площадь объекта(м²)'\n",
    "    df = df[df['Площадь объекта(м²)'].notnull()]\n",
    "    df = df.reset_index(drop=True)\n",
    "    print('Количество строк df =', len(df))\n",
    "    return df\n",
    "\n",
    "df = update(df)"
   ]
  },
  {
   "cell_type": "code",
   "execution_count": 242,
   "id": "95e69a99-db82-408a-97ef-24a23055f8ec",
   "metadata": {},
   "outputs": [
    {
     "name": "stderr",
     "output_type": "stream",
     "text": [
      "100%|███████████████████████████████████████████████████████████████████████████████████| 9/9 [00:00<00:00, 542.10it/s]\n"
     ]
    }
   ],
   "source": [
    "def columns_to_str(df):\n",
    "    \"\"\"Заменяет None на '-' и меняет тип данных на 'str'.\"\"\"\n",
    "    columns = ['Регион', 'Район субъекта РФ', 'Город', 'Населенный пункт', 'Улица', 'Номер дома', 'Координаты объекта', 'Блок', 'Городской район']\n",
    "    for column in tqdm(columns):\n",
    "        df[column] = df[column].fillna('-')\n",
    "        df[column] = df[column].astype('str')\n",
    "    return df\n",
    "\n",
    "df = columns_to_str(df)"
   ]
  },
  {
   "cell_type": "markdown",
   "id": "6124f6e8-a830-4182-8414-351d380c4c7f",
   "metadata": {},
   "source": [
    "## 3. Распространение координат по имеющимся данным"
   ]
  },
  {
   "cell_type": "code",
   "execution_count": 243,
   "id": "dd2aa684-2d4c-4aeb-8fe5-9bf938c0b6af",
   "metadata": {},
   "outputs": [],
   "source": [
    "def str_coord_to_tuple(string):\n",
    "    \"\"\"Конвертирует строку координат в кортеж.\"\"\"\n",
    "    try:\n",
    "        lat = string.split(',')[0].split(':')[-1]\n",
    "        lon = string.split(',')[1].split(':')[-1][:-1]\n",
    "        return tuple((float(lat), float(lon)))\n",
    "    except IndexError:\n",
    "        print(f\"Ошибка обработки данных: {string}\")\n",
    "        return None"
   ]
  },
  {
   "cell_type": "code",
   "execution_count": 244,
   "id": "4f30b344-3335-40fb-8ad3-2333ae11fcb3",
   "metadata": {},
   "outputs": [],
   "source": [
    "def spread_coord(df):\n",
    "    \"\"\"Распространение координат Брянска по адресам.\"\"\"\n",
    "    # применение функции str_coord_to_tuple\n",
    "    df['Координаты объекта'] = df['Координаты объекта'].apply(lambda x: str_coord_to_tuple(x) if x != '-' else x)\n",
    "    # берем только те адреса, где есть координаты\n",
    "    df_address = df[df['Координаты объекта'] != '-']\n",
    "    # создаем словарь\n",
    "    dict_coordinates = dict(df_address[['Адрес из источника', 'Координаты объекта']].to_numpy())\n",
    "    # распространяем координаты Брянска на соответствующие адреса\n",
    "    df['Координаты объекта'] = df['Адрес из источника'].apply(lambda x: dict_coordinates.get(x, '-'))\n",
    "    return df\n",
    "\n",
    "df = spread_coord(df)"
   ]
  },
  {
   "cell_type": "code",
   "execution_count": 245,
   "id": "87eeb268-f4c5-4933-bd89-e6424a8d187e",
   "metadata": {},
   "outputs": [
    {
     "name": "stderr",
     "output_type": "stream",
     "text": [
      "100%|███████████████████████████████████████████████████████████████████████████| 1638/1638 [00:00<00:00, 19818.58it/s]\n"
     ]
    }
   ],
   "source": [
    "def useless_data(df):\n",
    "    \"\"\"Исключает объекты без адреса и координат.\"\"\"\n",
    "    indices_to_remove = []\n",
    "    for i in tqdm(range(len(df))):\n",
    "        if (df['Улица'].iloc[i] == '-' or df['Номер дома'].iloc[i] == '-') and df['Координаты объекта'].iloc[i] == '-':\n",
    "            indices_to_remove.append(i)\n",
    "\n",
    "    df_none_address = df.loc[indices_to_remove]\n",
    "    # df_none_address.to_excel(PATH_CLEAN_DATA + 'промышленная_недвижимость_без_адреса_и_координат.xlsx', index=False)\n",
    "    return indices_to_remove\n",
    "\n",
    "indices_to_remove = useless_data(df)"
   ]
  },
  {
   "cell_type": "code",
   "execution_count": 246,
   "id": "fbc40a8e-a692-4428-bf97-1d0bee88083a",
   "metadata": {},
   "outputs": [],
   "source": [
    "# Статистика\n",
    "control_count_temp = pd.pivot_table(df.loc[indices_to_remove], \n",
    "                                      values='Дата объявления', \n",
    "                                      index='Имя файла',\n",
    "                                      aggfunc='count').rename(columns = {'Дата объявления': 'Записи без улицы или дома (невозможно определить координаты)'})\n",
    "\n",
    "control_count_result = pd.merge(control_count_result, control_count_temp,\n",
    "                                left_on = 'Имя файла',\n",
    "                                right_on = 'Имя файла',\n",
    "                                how = 'left').fillna(0)"
   ]
  },
  {
   "cell_type": "code",
   "execution_count": 247,
   "id": "a0d62968-0f47-4fb4-b765-ecdf5893f52b",
   "metadata": {},
   "outputs": [
    {
     "name": "stdout",
     "output_type": "stream",
     "text": [
      "1553\n"
     ]
    }
   ],
   "source": [
    "def drop_adress(df):\n",
    "    df = df.drop(indices_to_remove)\n",
    "    df = df.reset_index(drop=True)\n",
    "    print(len(df))\n",
    "    return df\n",
    "\n",
    "df = drop_adress(df)"
   ]
  },
  {
   "cell_type": "markdown",
   "id": "ad619926-39f8-49e3-84e2-96ac8827f4c9",
   "metadata": {},
   "source": [
    "## 4. Выгрузка координат с помощью геокодирования по адресу"
   ]
  },
  {
   "cell_type": "markdown",
   "id": "1230aaeb-6749-4d6e-8894-a13cc2a83f3c",
   "metadata": {},
   "source": [
    "### 4.1. Проверка поселков на вхождение в НП"
   ]
  },
  {
   "cell_type": "code",
   "execution_count": 248,
   "id": "227c4874-0f0a-47bf-8a2f-62dac8eba0b0",
   "metadata": {},
   "outputs": [],
   "source": [
    "# Константы\n",
    "PRIMORSKY_KRAI_CITIES = 'города.xlsx'\n",
    "PRIMORSKY_KRAI_SETTLEMENTS = 'Населенные_пункты_полигоны.xlsx'"
   ]
  },
  {
   "cell_type": "code",
   "execution_count": 249,
   "id": "4c3f2e42-a990-4312-8c41-d5a90540dcd3",
   "metadata": {},
   "outputs": [],
   "source": [
    "def clean_settlements(file_name):\n",
    "    \"\"\"Извлекает населенные пункты и возвращает их в очищенном виде.\"\"\"\n",
    "    file_path = os.path.join(PATH_SUPPORT_DATA, file_name)\n",
    "    df = pd.read_excel(file_path)\n",
    "\n",
    "    df['NAME'] = df['NAME'].str.lower()\n",
    "    df['NAME'] = df['NAME'].str.replace('ё', 'е')\n",
    "\n",
    "    return set(df['NAME'])\n",
    "\n",
    "\n",
    "def get_villages(data_1, data_2):\n",
    "    \"\"\"Удаляет из населенных пунктов города и возвращает поселки.\"\"\"\n",
    "    settlements = clean_settlements(data_1)\n",
    "    cities = clean_settlements(data_2)\n",
    "\n",
    "    villages = settlements - cities # все поселки Приморского края\n",
    "\n",
    "    return villages\n",
    "\n",
    "# Получение поселков\n",
    "villages = get_villages(PRIMORSKY_KRAI_SETTLEMENTS, PRIMORSKY_KRAI_CITIES)"
   ]
  },
  {
   "cell_type": "code",
   "execution_count": 250,
   "id": "2088b909-c78f-4842-83bc-e0f8707ebd93",
   "metadata": {},
   "outputs": [],
   "source": [
    "def clean_columns(df):\n",
    "    \"\"\"Приводит столбец к унифицированному виду и определяет деревни/поселки/села.\"\"\"\n",
    "\n",
    "    df['Населенный пункт'] = df['Населенный пункт'].str.lower()\n",
    "    df['Населенный пункт'] = df['Населенный пункт'].str.replace('поселок ', '')\n",
    "    df['Населенный пункт'] = df['Населенный пункт'].str.replace('ё', 'е')\n",
    "\n",
    "    mask = df['Населенный пункт'].isin(villages)\n",
    "    # Создаем столбец 'Населенный пункт temp' в df, где записываем значение 'Населенный пункт' или '-' в зависимости от маски\n",
    "    df['Населенный пункт temp'] = df['Населенный пункт'].where(mask, other='-')\n",
    "\n",
    "    return df\n",
    "\n",
    "df = clean_columns(df)"
   ]
  },
  {
   "cell_type": "markdown",
   "id": "302dd9b3-ab9f-4116-812c-f8866621f7ca",
   "metadata": {},
   "source": [
    "### 4.2. Собираем адрес из детальной раскладки"
   ]
  },
  {
   "cell_type": "code",
   "execution_count": 251,
   "id": "6ac4f4d7-3b1a-437b-a8c0-de44a5e3b74f",
   "metadata": {},
   "outputs": [],
   "source": [
    "def region(df):\n",
    "    \"\"\"Определяет городской округ по городу для поля «Район субъекта РФ».\"\"\"\n",
    "    region_dict = {\n",
    "        'Арсеньев': 'Арсеньевский', 'Артем': 'Артёмовский', 'Большой Камень': 'Большой Камень',\n",
    "        'Владивосток': 'Владивостокский', 'Дальнегорск': 'Дальнегорский',\n",
    "        'Дальнереченск': 'Дальнереченский', 'Лесозаводск': 'Лесозаводский',\n",
    "        'Находка': 'Находкинский', 'Партизанск': 'Партизанский',\n",
    "        'Спасск-Дальний': 'Спасск-Дальний', 'Уссурийск': 'Уссурийский',\n",
    "        'Фокино': 'ЗАТО Фокино',\n",
    "    }\n",
    "\n",
    "    for city, region in region_dict.items():\n",
    "        df.loc[(df['Город'] == city) & (df['Район субъекта РФ'] == '-'), 'Район субъекта РФ'] = region\n",
    "\n",
    "    return df\n",
    "\n",
    "df = region(df)"
   ]
  },
  {
   "cell_type": "code",
   "execution_count": 252,
   "id": "1d65ebae-8a0a-467e-9ec5-881b5c4f4001",
   "metadata": {},
   "outputs": [],
   "source": [
    "def del_villages_1(df):\n",
    "    \"\"\"Функция для тестов.\"\"\"\n",
    "    df['Городской район'] = df['Городской район'].str.lower()\n",
    "    df['Городской район'] = df['Городской район'].str.replace('ё', 'е')\n",
    "    df = df[df['Населенный пункт temp'] == '-']\n",
    "    return df"
   ]
  },
  {
   "cell_type": "code",
   "execution_count": 253,
   "id": "6966f004-c642-4f8f-81d6-b4cee6be7f93",
   "metadata": {},
   "outputs": [],
   "source": [
    "def find_villages(data):\n",
    "    \"\"\"Функция для тестов.\"\"\"\n",
    "    \"\"\"Определяет является ли строка в поле «Городской район» населенным пунктом.\"\"\"\n",
    "    # создаем шаблон для разделения строки\n",
    "    pattern = r'[ ,.\\-:;!]+'\n",
    "\n",
    "    # находим чистую строку с поселком\n",
    "    if data in villages:\n",
    "        return data\n",
    "    else:\n",
    "        # определяет только полное совпадение (работает когда поселок это одно слово)\n",
    "        # + проверка на ошибки 1 рода, создадим слова исключения\n",
    "        # list_exceptions = ['микрорайон', 'мкр', 'мкр', 'м', 'им', 'ул', 'автовокзал', 'база']\n",
    "        words = re.split(pattern, data)\n",
    "        for word in words:\n",
    "            # if word in list_exceptions:\n",
    "            #     return '-'\n",
    "            word = {word}\n",
    "            if word.intersection(villages):\n",
    "                return ' '.join(word.intersection(villages))\n",
    "\n",
    "        # проверяет что хотя бы одно слово пересекается с названием населенного пункта, тогда проверяется ближайшее слово (+-1) вместе с найденным на полное соответствие населенному пункту\n",
    "        for word in words:\n",
    "            for village in villages:\n",
    "                lst = re.split(pattern, village)\n",
    "                if word in lst:\n",
    "                    index = words.index(word)\n",
    "                    length = len(words) - 1\n",
    "                    if 0 <= index - 1 <= length:\n",
    "                        if (words[index - 1] + ' ' + words[index] == village) or (words[index - 1] + '-' + words[index] == village):\n",
    "                            return village\n",
    "                    if 0 <= index + 1 <= length:\n",
    "                        if (words[index] + ' ' + words[index + 1] == village) or (words[index] + '-' + words[index + 1] == village):\n",
    "                            return village\n",
    "    return '-'"
   ]
  },
  {
   "cell_type": "code",
   "execution_count": 254,
   "id": "c0edb954-8374-495a-9794-a6c91252ef12",
   "metadata": {},
   "outputs": [],
   "source": [
    "def del_villages_2(df):\n",
    "    \"\"\"Функция для тестов.\"\"\"\n",
    "    df['Городской район temp'] = df['Городской район'].progress_apply(lambda x: find_villages(x) if x != '-' else '-')\n",
    "    df = df[df['Городской район temp'] != '-']\n",
    "    df = df[df['Координаты объекта'] != '-']\n",
    "    return df"
   ]
  },
  {
   "cell_type": "code",
   "execution_count": 255,
   "id": "b55dc9b2-2174-468d-90ef-299b636d967c",
   "metadata": {},
   "outputs": [
    {
     "name": "stdout",
     "output_type": "stream",
     "text": [
      "164\n"
     ]
    }
   ],
   "source": [
    "def find_coord(df):\n",
    "    \"\"\"Создает отдельный датафрейм из данных в которых нет координат.\"\"\"\n",
    "    df = df[df['Координаты объекта'] == '-']\n",
    "    \n",
    "    # Удаляем дубликаты по столбцу 'Адрес из источника'\n",
    "    df = df.drop_duplicates('Адрес из источника')\n",
    "    df = df.reset_index(drop=True)\n",
    "    print(len(df))\n",
    "    return df\n",
    "\n",
    "df_address_coord = find_coord(df)"
   ]
  },
  {
   "cell_type": "code",
   "execution_count": 256,
   "id": "1a6c070a-b0db-4f85-b60b-44c271f20c85",
   "metadata": {},
   "outputs": [],
   "source": [
    "def create_detail_address(data):\n",
    "    \"\"\"Функция создания адреса из детальной раскладки.\"\"\"\n",
    "    addresses_list = []\n",
    "    for i in tqdm(range(len(data))):\n",
    "        region = data['Регион'].iloc[i]\n",
    "        district = data['Район субъекта РФ'].iloc[i]\n",
    "        city = data['Город'].iloc[i]\n",
    "        settlement = data['Населенный пункт'].iloc[i]\n",
    "        street = data['Улица'].iloc[i]\n",
    "        house_number = data['Номер дома'].iloc[i]\n",
    "        street_address = \"\"\n",
    "\n",
    "        block = data['Блок'].iloc[i].split('.')[0]\n",
    "        \n",
    "        # сборка поселков\n",
    "        if data['Населенный пункт temp'].iloc[i] != '-' and data['Населенный пункт'].iloc[i] != '-':\n",
    "            street_address = f\"{region} край, {district}, {settlement}, {street}, {house_number}\"\n",
    "        # # сборка поселков из Городского района\n",
    "        # elif data['Городской район temp'].iloc[i] != '-':\n",
    "        #     street_address = f\"{region} край, {district}, {data['Городской район temp'].iloc[i]}, {street}, {house_number}\"\n",
    "        #сборка города\n",
    "        else:\n",
    "            street_address = f\"{region} край, {city}, {street}, {house_number}\"\n",
    "\n",
    "        # когда есть / и блок\n",
    "        if (not pd.isna(data['Тип блока'].iloc[i])) and ('/' in data['Адрес из источника'].iloc[i]):\n",
    "            digit_1 = data['Адрес из источника'].iloc[i].split('/')[0].strip().split()[-1]\n",
    "            digit_2 = data['Адрес из источника'].iloc[i].split('/')[-1].strip().split()[0]\n",
    "            number = f\"{digit_1}/{digit_2}\"\n",
    "            street_address = street_address.rsplit(', ', 1)[0]\n",
    "            if digit_1 == block or digit_2 == block:\n",
    "                street_address += f\" {number}\"\n",
    "            else:\n",
    "                street_address += f\" {number} {data['Тип блока'].iloc[i][:1]}{block}\"\n",
    "\n",
    "        # строение\n",
    "        elif data['Тип блока'].iloc[i] == 'строение':\n",
    "            street_address += f\" с{block}\"\n",
    "        \n",
    "        # корпус\n",
    "        elif data['Тип блока'].iloc[i] == 'корпус':\n",
    "            street_address += f\" к{block}\"\n",
    "        \n",
    "        # там где забыли указать /номер дома\n",
    "        elif ('/' in data['Адрес из источника'].iloc[i]) and (pd.isna(data['Тип блока'].iloc[i])) and ('/' not in data['Номер дома']):\n",
    "            if len(data['Адрес из источника'].iloc[i].split('/')[-1]) > 0:\n",
    "                number = data['Адрес из источника'].iloc[i].split('/')[-1].strip().split()[0]\n",
    "                street_address += f\"/{number}\"\n",
    "\n",
    "        # случай когда не укзан тип блока но при этом есть \"строние\" в адресе\n",
    "        elif ('стр.' in data['Адрес из источника'].iloc[i]) and (pd.isna(data['Тип блока'].iloc[i])):\n",
    "            if len(data['Адрес из источника'].iloc[i].split('стр.')[-1]) > 0:\n",
    "                stroyenie = data['Адрес из источника'].iloc[i].split('стр.')[-1].strip().split()[0]\n",
    "                number = data['Номер дома'].iloc[i].split('/')[0]\n",
    "                street_address = street_address.rsplit(', ', 1)[0]\n",
    "                street_address += f\", {number} с{stroyenie}\"\n",
    "\n",
    "        # случай когда не укзан тип блока но при этом есть \"корус\" в адресе\n",
    "        elif ('кор.' in data['Адрес из источника'].iloc[i]) and (pd.isna(data['Тип блока'].iloc[i])):\n",
    "            if len(data['Адрес из источника'].iloc[i].split('кор.')[-1]) > 0:\n",
    "                korpus = data['Адрес из источника'].iloc[i].split('кор.')[-1].strip().split()[0]\n",
    "                number = data['Номер дома'].iloc[i].split('/')[0]\n",
    "                street_address = street_address.rsplit(', ', 1)[0]\n",
    "                street_address += f\", {number} к{korpus}\"\n",
    "\n",
    "        addresses_list.append(street_address)\n",
    "\n",
    "    return addresses_list"
   ]
  },
  {
   "cell_type": "code",
   "execution_count": 257,
   "id": "ccb3ed58-f705-4c20-9fa2-cd2e60beb749",
   "metadata": {},
   "outputs": [],
   "source": [
    "def save_test(df):\n",
    "    \"\"\"Функция для тестов.\"\"\"\n",
    "    df.insert(7, 'Адрес детальной раскладки', create_detail_address(df))\n",
    "    df.to_excel(PATH_CLEAN_DATA + 'Статистика для поиска неверных координат.xlsx', index=False)\n",
    "    return df"
   ]
  },
  {
   "cell_type": "markdown",
   "id": "45dc44dd-f27d-4238-b470-22570e25c3fc",
   "metadata": {},
   "source": [
    "### 4.3. Геокодируем адрес"
   ]
  },
  {
   "cell_type": "code",
   "execution_count": 258,
   "id": "fa44fa71-dcb8-4c41-bee4-e3edf93ced94",
   "metadata": {},
   "outputs": [
    {
     "name": "stderr",
     "output_type": "stream",
     "text": [
      "100%|██████████████████████████████████████████████████████████████████████████████| 164/164 [00:00<00:00, 3486.64it/s]\n"
     ]
    }
   ],
   "source": [
    "initial_address_list = list(set(create_detail_address(df_address_coord))) # адреса полученные из детальной раскладки\n",
    "nominatim_coord_list = list() # координаты по адресу\n",
    "nominatim_address_list = list() # адрес который получен из координат\n",
    "solution_list = list() # решение"
   ]
  },
  {
   "cell_type": "code",
   "execution_count": 259,
   "id": "1ffd6c0f-a4a0-46f9-86b9-fe2a5e482dbd",
   "metadata": {},
   "outputs": [],
   "source": [
    "# Проверка, что для адреса уже найдены координаты\n",
    "def find_existing_address(df):\n",
    "    existing_address_path = os.path.join(PATH_ADDRESS_COORD_DATA, 'адрес_координаты_1.xlsx')\n",
    "    df_existing_address = pd.read_excel(existing_address_path)\n",
    "    dict_existing_address = dict(df_existing_address[['Адрес из детальной раскладки', 'Координаты nominatim']].to_numpy())\n",
    "\n",
    "    # итерируемся по адресам где нет координат\n",
    "    for address in initial_address_list:\n",
    "        if address in dict_existing_address:\n",
    "            # удаляем адрес, если для него есть координаты (то есть его не будет в поиске, добавим его напрямую из имеющегося словаря)\n",
    "            initial_address_list.remove(address)\n",
    "    print(len(initial_address_list))\n",
    "    return initial_address_list, dict_existing_address\n",
    "# initial_address_list, dict_existing_address = find_existing_address(df_address_coord)"
   ]
  },
  {
   "cell_type": "code",
   "execution_count": 260,
   "id": "90707c8b-79cb-4f77-92d3-f94f2d811f70",
   "metadata": {},
   "outputs": [],
   "source": [
    "def get_coordinates(address):\n",
    "    \"\"\"Функция поиска координат по адресу.\"\"\"\n",
    "    global nominatim_coord_list, nominatim_address_list, solution_list\n",
    "    geolocator = Nominatim(user_agent=\"request_vl_\" + str(random.randint(0, 10000)))\n",
    "    locations = geolocator.geocode(address, exactly_one=False, timeout=20)\n",
    "    temp = []\n",
    "    if locations:\n",
    "        for location in locations:\n",
    "            temp.append(location[0])\n",
    "            # выбираем из предложенных вариантов то, где первым будет стоять номер дома, а не название организации\n",
    "            index = np.argsort(temp)[0]\n",
    "        if locations[index].raw['name'] != '':\n",
    "            start_index = locations[index].address.find(locations[index].raw['name']) + len(locations[index].raw['name']) + 2\n",
    "            address_nom = locations[index].address[start_index:]\n",
    "        else:\n",
    "            address_nom = locations[index].address\n",
    "\n",
    "        nominatim_coord_list.append(locations[index][-1])\n",
    "        nominatim_address_list.append(address_nom)\n",
    "        if address_nom[0].isdigit():\n",
    "            solution_list.append('да')\n",
    "        else:\n",
    "            solution_list.append('нет')\n",
    "    else:\n",
    "        nominatim_coord_list.append('-')\n",
    "        nominatim_address_list.append('-')\n",
    "        solution_list.append('-')"
   ]
  },
  {
   "cell_type": "code",
   "execution_count": 261,
   "id": "ea49173a-0943-450b-8173-2277e850edb7",
   "metadata": {},
   "outputs": [
    {
     "name": "stderr",
     "output_type": "stream",
     "text": [
      "100%|████████████████████████████████████████████████████████████████████████████████| 158/158 [04:47<00:00,  1.82s/it]\n"
     ]
    }
   ],
   "source": [
    "def fill_coord(df):\n",
    "    \"\"\"Определяет и сохраняет координаты в датафрейм.\"\"\"\n",
    "    global initial_address_list\n",
    "    for address in tqdm(initial_address_list):\n",
    "        get_coordinates(address)\n",
    "    df_address_coord = pd.DataFrame({\n",
    "        'Адрес из детальной раскладки': initial_address_list,\n",
    "        'Координаты nominatim': nominatim_coord_list,\n",
    "        'Адрес nominatim': nominatim_address_list,\n",
    "        'Адрес верный': solution_list,\n",
    "    })\n",
    "    return df_address_coord\n",
    "\n",
    "df_address_coord = fill_coord(df_address_coord)\n",
    "# df_address_coord['Координаты nominatim'] = df_address_coord['Координаты nominatim'].apply(lambda coord: (round(coord[0], 5), round(coord[1], 5)))"
   ]
  },
  {
   "cell_type": "code",
   "execution_count": 262,
   "id": "bec1e0d2-36f9-4928-aff9-490c9d3aae04",
   "metadata": {},
   "outputs": [
    {
     "name": "stderr",
     "output_type": "stream",
     "text": [
      "100%|████████████████████████████████████████████████████████████████████████████| 1553/1553 [00:00<00:00, 3144.65it/s]\n"
     ]
    }
   ],
   "source": [
    "def add_coord(df, df_address_coord):\n",
    "    \"\"\"Затягивает на весь датафрейм координаты.\"\"\"\n",
    "    # Создадим временный столбец 'Адрес из детальной раскладки'\n",
    "    # С помощью словаря затянем по этому столбцу найденные координаты\n",
    "    df_address_coord = df_address_coord[df_address_coord['Адрес верный'] == 'да']\n",
    "    \n",
    "    dict_address_coord = dict(df_address_coord[['Адрес из детальной раскладки', 'Координаты nominatim']].to_numpy())\n",
    "    \n",
    "    full_address_list = create_detail_address(df)\n",
    "    df['Адрес из детальной раскладки temp'] = full_address_list\n",
    "    \n",
    "    # Распространяем имеющиеся координаты на соответствующие адреса\n",
    "    df['Координаты объекта'] = df.apply(lambda row: dict_address_coord[row['Адрес из детальной раскладки temp']] if row['Адрес из детальной раскладки temp'] in dict_address_coord else row['Координаты объекта'], axis=1)\n",
    "    return df\n",
    "\n",
    "def fill_existing_coord(df, dict_existing_address):\n",
    "    df['Координаты объекта'] = df.apply(lambda row: dict_existing_address[row['Адрес из детальной раскладки temp']] if row['Адрес из детальной раскладки temp'] in dict_existing_address else row['Координаты объекта'], axis=1)\n",
    "    return df\n",
    "\n",
    "def edit_df(df):\n",
    "    # Исключаем из итогового df объекты без координат\n",
    "    df = df[df['Координаты объекта'] != '-']\n",
    "\n",
    "    # Удаляем временные столбцы\n",
    "    df = df.drop('Населенный пункт temp', axis=1)\n",
    "    df = df.drop('Адрес из детальной раскладки temp', axis=1)\n",
    "    return df\n",
    "\n",
    "df = add_coord(df, df_address_coord)\n",
    "# df = fill_existing_coord(df, dict_existing_address)"
   ]
  },
  {
   "cell_type": "code",
   "execution_count": 263,
   "id": "aa83803d-1ffc-4005-909a-06d68bca13c5",
   "metadata": {},
   "outputs": [],
   "source": [
    "# Статистика\n",
    "control_count_temp = pd.pivot_table(df[df['Координаты объекта'] == '-'], \n",
    "                                      values='Дата объявления', \n",
    "                                      index='Имя файла',\n",
    "                                      aggfunc='count').rename(columns = {'Дата объявления': 'Записи для которых не удалось определить координаты'})\n",
    "\n",
    "control_count_result = pd.merge(control_count_result, control_count_temp,\n",
    "                                left_on = 'Имя файла',\n",
    "                                right_on = 'Имя файла',\n",
    "                                how = 'left').fillna(0)"
   ]
  },
  {
   "cell_type": "code",
   "execution_count": 264,
   "id": "a74d5e55-8f7c-47ca-bc43-c7bb87648767",
   "metadata": {},
   "outputs": [],
   "source": [
    "df = edit_df(df)"
   ]
  },
  {
   "cell_type": "code",
   "execution_count": 265,
   "id": "59a016e6-dd35-41a9-a596-a24a3590e70b",
   "metadata": {},
   "outputs": [],
   "source": [
    "# import datetime\n",
    "\n",
    "\n",
    "def save_coord():\n",
    "    # current_time = datetime.datetime.now().strftime('%Y-%m-%d-%H-%M')\n",
    "    # Сохранение адрес-координаты в ексель\n",
    "    df_temp = df_address_coord[df_address_coord['Адрес верный'] == 'да']\n",
    "    df_temp = df_temp[['Адрес из детальной раскладки', 'Координаты nominatim']]\n",
    "    # df_temp.to_excel(PATH_ADDRESS_COORD_DATA + \"адрес_координаты_1.xlsx\", index=False)\n",
    "\n",
    "    # Адреса по которым не удалось определить координаты, либо полученные координаты не соответствуют адресу\n",
    "    df_other = df_address_coord[df_address_coord['Адрес верный'] != 'да' ]\n",
    "    # df_other.to_excel(PATH_CLEAN_DATA + 'не_удалось_найти_координаты_по_адресу.xlsx', index=False)\n",
    "\n",
    "save_coord()"
   ]
  },
  {
   "cell_type": "code",
   "execution_count": 266,
   "id": "343d8726-509e-4394-884b-e11be28a594c",
   "metadata": {},
   "outputs": [],
   "source": [
    "\"\"\"Функции для работы с тестовыми данными\"\"\"\n",
    "def add_coord(df, df_address_coord):\n",
    "    df_address_coord = df_address_coord[df_address_coord['Адрес верный'] == 'да']\n",
    "    df_address_coord = df_address_coord[df_address_coord['Координаты nominatim'] != '-']\n",
    "    dict_address_coord = dict(df_address_coord[['Адрес из детальной раскладки', 'Координаты nominatim']].to_numpy())\n",
    "    df['Координаты nominatim'] = df['Адрес детальной раскладки'].apply(lambda x: dict_address_coord[x] if x in dict_address_coord else None)\n",
    "    return df\n",
    "\n",
    "from geopy.distance import geodesic\n",
    "\n",
    "def calculate_distance(location1, location2):\n",
    "    \"\"\"Вычисляет расстояние между 2-мя точками по прямой.\"\"\"\n",
    "    distance = geodesic(location1, location2)\n",
    "    return round(distance.km, 3)\n",
    "    # df['Разница координат'] = df.apply(lambda row: calculate_distance(row['Координаты объекта'], row['Координаты nominatim']) if row['Координаты nominatim'] != None else None, axis=1)"
   ]
  },
  {
   "cell_type": "markdown",
   "id": "7978ea1e-bac1-433b-aca5-05264f04f67b",
   "metadata": {},
   "source": [
    "## 5. Округляем координаты (для единообразия)"
   ]
  },
  {
   "cell_type": "code",
   "execution_count": 267,
   "id": "d88e46dc-c587-47d5-9f54-b01fc0b39283",
   "metadata": {},
   "outputs": [],
   "source": [
    "# df['Координаты объекта'] = df['Координаты объекта'].apply(lambda coord: (round(coord[0], 5), round(coord[1], 5)))"
   ]
  },
  {
   "cell_type": "markdown",
   "id": "9baae4f9-4499-43ee-96f7-01d8cd98ea08",
   "metadata": {},
   "source": [
    "## 6. Создание уникальных объектов"
   ]
  },
  {
   "cell_type": "code",
   "execution_count": 268,
   "id": "8cd6fdd4-ad02-441f-b44f-9925a27d7842",
   "metadata": {},
   "outputs": [],
   "source": [
    "# Определяем уникальность, это сцепка координаты + площадь\n",
    "\n",
    "def unique_number(df):\n",
    "    j = 0\n",
    "    dict_unique_number = dict()\n",
    "    for index, row in df.iterrows():\n",
    "        string = str(row['Площадь объекта(м²)']) + str('_') + str(row['Координаты объекта'])\n",
    "        if string not in dict_unique_number:\n",
    "            j += 1\n",
    "            dict_unique_number[string] = j\n",
    "            df.at[index, 'Уникальный номер'] = j\n",
    "        else:\n",
    "            df.at[index, 'Уникальный номер'] = dict_unique_number[string]\n",
    "    return df\n",
    "\n",
    "df['Уникальный номер'] = pd.Series()\n",
    "df = unique_number(df)"
   ]
  },
  {
   "cell_type": "markdown",
   "id": "c3133746-3277-427f-ab0f-24103b2eed70",
   "metadata": {},
   "source": [
    "## 7. Сегментация объектов (выбросы по Тексту объявления)"
   ]
  },
  {
   "cell_type": "code",
   "execution_count": 269,
   "id": "d5ccf893-eaad-4e9d-b62c-9fb8b1407c9e",
   "metadata": {},
   "outputs": [],
   "source": [
    "# Константы\n",
    "sheet_name_1 = 'торги, доли, обременения'\n",
    "sheet_name_2 = 'ОНСы, под снос'\n",
    "sheet_name_3 = 'С остатками товара'\n",
    "sheet_name_4 = 'Продажа бизнеса'\n",
    "sheet_name_5 = 'Здания'"
   ]
  },
  {
   "cell_type": "code",
   "execution_count": 270,
   "id": "c30fe9b0-5c85-4074-b940-7a9203b4ce3f",
   "metadata": {},
   "outputs": [],
   "source": [
    "# Фильтрация по столбцу 'Текст объявления'\n",
    "\n",
    "# Пусть к Выбросам по словарю\n",
    "path_dict = PATH_DICT_DATA + 'словарь_1.xlsx'\n",
    "\n",
    "# Поверка на наличие пустых строк и их заполнение\n",
    "def check_for_empty_strings(data_dict):\n",
    "    if data_dict['Выбросы'].isna().any():\n",
    "        data_dict['Выбросы'] = data_dict['Выбросы'].fillna('-')\n",
    "    \n",
    "    # Поверка на наличие пустых строк и их заполнение\n",
    "    if data_dict['Исключения'].isna().any():\n",
    "        data_dict['Исключения'] = data_dict['Исключения'].fillna('-')\n",
    "\n",
    "def devide(data_dict, data_df):\n",
    "    \"\"\"Функция сегментации датафрейма по словарям.\"\"\"\n",
    "    check_for_empty_strings(data_dict)\n",
    "\n",
    "    devide_list = data_dict['Выбросы'].to_list()\n",
    "\n",
    "    # создание регулярного выражения\n",
    "    pattern_devide = '|'.join(devide_list)\n",
    "\n",
    "    exceptions_list = data_dict['Исключения'].to_list()\n",
    "    pattern_exceptions = '|'.join(exceptions_list)\n",
    "\n",
    "    # regex - параметр регулярного выражения\n",
    "    condition_1 = data_df['Текст объявления'].str.contains(pattern_devide, regex=True)\n",
    "    condition_2 = ~data_df['Текст объявления'].str.contains(pattern_exceptions, regex=True)\n",
    "\n",
    "    data_df = data_df[condition_1 & condition_2]\n",
    "    \n",
    "    return data_df"
   ]
  },
  {
   "cell_type": "code",
   "execution_count": 271,
   "id": "55506834-1583-4ced-9177-96fe9fbcc1aa",
   "metadata": {},
   "outputs": [],
   "source": [
    "# def # Сохранение выбросов\n",
    "\n",
    "# Чтение и запись словаря в переменную\n",
    "data_section_1 = pd.read_excel(path_dict, sheet_name=sheet_name_1)\n",
    "data_section_2 = pd.read_excel(path_dict, sheet_name=sheet_name_2)\n",
    "data_section_3 = pd.read_excel(path_dict, sheet_name=sheet_name_3)\n",
    "data_section_4 = pd.read_excel(path_dict, sheet_name=sheet_name_4)\n",
    "data_section_5 = pd.read_excel(path_dict, sheet_name=sheet_name_5)\n",
    "\n",
    "# Сохранение сегментированного датафрейма в переменную\n",
    "df_section_1 = devide(data_section_1, df)\n",
    "df = df[~df.index.isin(df_section_1.index)]\n",
    "# df_section_1.to_excel(PATH_CLEAN_DATA + 'ВЫБРОСЫ - ' + sheet_name_1 + '.xlsx', index=False)\n",
    "\n",
    "# Статистика\n",
    "control_count_temp = pd.pivot_table(df_section_1, \n",
    "                                      values='Дата объявления', \n",
    "                                      index='Имя файла',\n",
    "                                      aggfunc='count').rename(columns = {'Дата объявления': sheet_name_1})\n",
    "\n",
    "control_count_result = pd.merge(control_count_result, control_count_temp,\n",
    "                                left_on = 'Имя файла',\n",
    "                                right_on = 'Имя файла',\n",
    "                                how = 'left').fillna(0)\n",
    "\n",
    "\n",
    "df_section_2 = devide(data_section_2, df)\n",
    "df = df[~df.index.isin(df_section_2.index)]\n",
    "# df_section_2.to_excel(PATH_CLEAN_DATA + 'ВЫБРОСЫ - ' + sheet_name_2 + '.xlsx', index=False)\n",
    "\n",
    "# Статистика\n",
    "control_count_temp = pd.pivot_table(df_section_2, \n",
    "                                      values='Дата объявления', \n",
    "                                      index='Имя файла',\n",
    "                                      aggfunc='count').rename(columns = {'Дата объявления': sheet_name_2})\n",
    "\n",
    "control_count_result = pd.merge(control_count_result, control_count_temp,\n",
    "                                left_on = 'Имя файла',\n",
    "                                right_on = 'Имя файла',\n",
    "                                how = 'left').fillna(0)\n",
    "\n",
    "\n",
    "df_section_3 = devide(data_section_3, df)\n",
    "df = df[~df.index.isin(df_section_3.index)]\n",
    "# df_section_3.to_excel(PATH_CLEAN_DATA + 'ВЫБРОСЫ - ' + sheet_name_3 + '.xlsx', index=False)\n",
    "\n",
    "# Статистика\n",
    "control_count_temp = pd.pivot_table(df_section_3, \n",
    "                                      values='Дата объявления', \n",
    "                                      index='Имя файла',\n",
    "                                      aggfunc='count').rename(columns = {'Дата объявления': sheet_name_3})\n",
    "\n",
    "control_count_result = pd.merge(control_count_result, control_count_temp,\n",
    "                                left_on = 'Имя файла',\n",
    "                                right_on = 'Имя файла',\n",
    "                                how = 'left').fillna(0)\n",
    "\n",
    "\n",
    "df_section_4 = devide(data_section_4, df)\n",
    "df = df[~df.index.isin(df_section_4.index)]\n",
    "# df_section_4.to_excel(PATH_CLEAN_DATA + 'ВЫБРОСЫ - ' + sheet_name_4 + '.xlsx', index=False)\n",
    "\n",
    "# Статистика\n",
    "control_count_temp = pd.pivot_table(df_section_4, \n",
    "                                      values='Дата объявления', \n",
    "                                      index='Имя файла',\n",
    "                                      aggfunc='count').rename(columns = {'Дата объявления': sheet_name_4})\n",
    "\n",
    "control_count_result = pd.merge(control_count_result, control_count_temp,\n",
    "                                left_on = 'Имя файла',\n",
    "                                right_on = 'Имя файла',\n",
    "                                how = 'left').fillna(0)\n",
    "\n",
    "\n",
    "df_section_5 = devide(data_section_5, df)\n",
    "df = df[~df.index.isin(df_section_5.index)]\n",
    "# df_section_5.to_excel(PATH_CLEAN_DATA + 'ВЫБРОСЫ - ' + sheet_name_5 + '.xlsx', index=False)\n",
    "\n",
    "# Статистика\n",
    "control_count_temp = pd.pivot_table(df_section_5, \n",
    "                                      values='Дата объявления', \n",
    "                                      index='Имя файла',\n",
    "                                      aggfunc='count').rename(columns = {'Дата объявления': sheet_name_5})\n",
    "\n",
    "control_count_result = pd.merge(control_count_result, control_count_temp,\n",
    "                                left_on = 'Имя файла',\n",
    "                                right_on = 'Имя файла',\n",
    "                                how = 'left').fillna(0)\n",
    "\n",
    "\n",
    "df = df.reset_index(drop=True)"
   ]
  },
  {
   "cell_type": "markdown",
   "id": "d99c429d-5610-47ae-8f42-de1218126236",
   "metadata": {},
   "source": [
    "## 8. Сегментация объектов (выбросы по Заголовкам)"
   ]
  },
  {
   "cell_type": "code",
   "execution_count": 272,
   "id": "1f605a28-1641-4533-a02c-86d6c9f76d12",
   "metadata": {},
   "outputs": [],
   "source": [
    "list_sentences = df['Заголовок'].unique()\n",
    "list_key_words = list()\n",
    "\n",
    "\n",
    "for sentence in list_sentences:\n",
    "    temp = list()\n",
    "    for term in term_extractor(sentence):\n",
    "        if len(term.normalized) > 2: # исключаем то что состоит из одной или двух букв     \n",
    "            temp.append(term.normalized)\n",
    "    list_key_words.append(temp)"
   ]
  },
  {
   "cell_type": "code",
   "execution_count": 273,
   "id": "9762b10e-242b-45e6-a931-bb2a31864e98",
   "metadata": {},
   "outputs": [],
   "source": [
    "# приведение словосочетаний к начальной форме (для исключения вариативности)\n",
    "list_basic_key_words = []\n",
    "for keywords in list_key_words:\n",
    "    temp = []\n",
    "    for keyword in keywords:\n",
    "        if len(keyword.split(' ')) > 1:\n",
    "            for word in keyword.split(' '):\n",
    "                basic_form = morph.parse(word)[0].normal_form\n",
    "                if len(basic_form) > 2 and not basic_form.isdigit():\n",
    "                    temp.append(basic_form)\n",
    "        else:\n",
    "            basic_form = morph.parse(keyword)[0].normal_form\n",
    "            if len(basic_form) > 2 and not basic_form.isdigit():\n",
    "                temp.append(basic_form)\n",
    "\n",
    "    list_basic_key_words.append(temp)"
   ]
  },
  {
   "cell_type": "code",
   "execution_count": 274,
   "id": "3d758aba-919a-45a6-8f3a-f45365af68d3",
   "metadata": {},
   "outputs": [],
   "source": [
    "temp_df = pd.DataFrame({\n",
    "    \"Заголовок\": list_sentences,\n",
    "    \"Ключевые слова\": list_key_words,\n",
    "    \"Нач.форма ключевых слов\": list_basic_key_words,\n",
    "})"
   ]
  },
  {
   "cell_type": "code",
   "execution_count": 275,
   "id": "b96c8ad0-7156-4d4f-9ea9-1fea5971a3a0",
   "metadata": {},
   "outputs": [],
   "source": [
    "# Константы \n",
    "path_keywords = PATH_DICT_DATA + 'словарь_2_ключевые_слова_по_заголовкам.xlsx'\n",
    "\n",
    "sheet_name_building = 'Здания'\n",
    "sheet_name_rooms = 'Помещения'\n",
    "sheet_name_complexes = 'Комплексы'\n",
    "\n",
    "data_building = pd.read_excel(path_keywords, sheet_name=sheet_name_building)\n",
    "data_rooms = pd.read_excel(path_keywords, sheet_name=sheet_name_rooms)\n",
    "data_complexes = pd.read_excel(path_keywords, sheet_name=sheet_name_complexes)\n",
    "\n",
    "temp_df['Категория'] = pd.Series()"
   ]
  },
  {
   "cell_type": "code",
   "execution_count": 276,
   "id": "2f1a12f6-15a4-4a17-8ed5-ebede2ea78be",
   "metadata": {},
   "outputs": [],
   "source": [
    "def define_category(df_list, data_dict_1, data_dict_2, data_dict_3):\n",
    "    \"\"\"Определяет вид недвижимости по ключевым словам в заголовке.\n",
    "\n",
    "    Параметры:\n",
    "    df_list (list): список слов из заголовка.\n",
    "    data_dict_1 (DataFrame): Датафрейм ключевых слов для категории \"Здания\".\n",
    "    data_dict_2 (DataFrame): Датафрейм ключевых слов для категории \"Помещения\".\n",
    "    data_dict_3 (DataFrame): Датафрейм ключевых слов для категории \"Комплексы\".\n",
    "\n",
    "    Возвращает:\n",
    "    str: выбранная категория по словарям.\n",
    "    Возможные значения:\n",
    "        - 'Комплексы'\n",
    "        - 'Здания'\n",
    "        - 'Помещения'\n",
    "        - '-' (если категория не найдена)\n",
    "    \"\"\"\n",
    "    list_keywords_1 = data_dict_1['Ключевые слова'].to_list()\n",
    "    list_keywords_2 = data_dict_2['Ключевые слова'].to_list()\n",
    "    list_keywords_3 = data_dict_3['Ключевые слова'].to_list()\n",
    "\n",
    "    output = []\n",
    "\n",
    "    for word in df_list:\n",
    "        for keyword in list_keywords_3:\n",
    "            if word in keyword:\n",
    "                return 'Комплексы'\n",
    "        for keyword in list_keywords_1:\n",
    "            if word in keyword:\n",
    "                output.append('Здания')\n",
    "        for keyword in list_keywords_2:\n",
    "            if word in keyword:\n",
    "                output.append('Помещения')\n",
    "\n",
    "    if output:\n",
    "        return sorted(output)[0]\n",
    "    else:\n",
    "        return '-'"
   ]
  },
  {
   "cell_type": "code",
   "execution_count": 277,
   "id": "b1c4e0bc-68b0-4800-abe9-f318f9998e4d",
   "metadata": {},
   "outputs": [],
   "source": [
    "temp_df['Категория'] = temp_df['Нач.форма ключевых слов'].apply(lambda x: define_category(x, data_building, data_rooms, data_complexes))"
   ]
  },
  {
   "cell_type": "code",
   "execution_count": 278,
   "id": "103ebf3a-103d-478a-84d5-a56e959aa710",
   "metadata": {},
   "outputs": [],
   "source": [
    "# temp_df.to_excel(PATH_CLEAN_DATA + 'Ключевые слова по заголовкам.xlsx', index=False)"
   ]
  },
  {
   "cell_type": "markdown",
   "id": "3f80daa3-e2f0-4614-8397-ba4e6e5d18a0",
   "metadata": {},
   "source": [
    "## 9. Сбор итогового файла"
   ]
  },
  {
   "cell_type": "code",
   "execution_count": 279,
   "id": "5b5d3c59-3f95-4d84-9448-a416c67693ec",
   "metadata": {},
   "outputs": [],
   "source": [
    "category_dict = dict(temp_df[['Заголовок', 'Категория']].to_numpy())"
   ]
  },
  {
   "cell_type": "code",
   "execution_count": 280,
   "id": "6ef3d9d5-5be2-49b0-a2ec-00ec7420686c",
   "metadata": {},
   "outputs": [
    {
     "name": "stderr",
     "output_type": "stream",
     "text": [
      "100%|█████████████████████████████████████████████████████████████████████████| 1401/1401 [00:00<00:00, 1427999.98it/s]\n"
     ]
    }
   ],
   "source": [
    "df['Вид недвижимости'] = df['Заголовок'].progress_apply(lambda x: category_dict[x])"
   ]
  },
  {
   "cell_type": "markdown",
   "id": "83fbaf37-4c93-4901-a654-07ee500ae0c8",
   "metadata": {},
   "source": [
    "## Подбиваем итоги по выбросам"
   ]
  },
  {
   "cell_type": "code",
   "execution_count": 282,
   "id": "16a54617-7ebe-4d27-9376-bb8952b333c8",
   "metadata": {},
   "outputs": [],
   "source": [
    "# Статистика\n",
    "control_count_result['сумма по выбросам'] = control_count_result[list(control_count_result.columns[1:])].sum(axis=1)\n",
    "control_count_result['итого'] = control_count_result['Исходное количество записей']-control_count_result['сумма по выбросам']\n",
    "temp = pd.DataFrame(control_count_result[control_count_result.columns].sum(), columns = ['итого'])\n",
    "temp = temp.T\n",
    "control_count_result = pd.concat([control_count_result, temp])\n",
    "control_count_result = control_count_result.reset_index().rename(columns = {'index': 'Имя файла'})\n",
    "control_count_result['Дата выгрузки'] = control_count_result['Имя файла'].apply(lambda x: x.split('_')[1] if len(x.split('_')) > 1 else '')\n",
    "control_count_result = control_count_result[['Имя файла', 'Дата выгрузки']+ list(control_count_result.columns[1:-1])]\n",
    "control_count_result['Дата выгрузки'] = pd.to_datetime(control_count_result['Дата выгрузки'], dayfirst=True).dt.date"
   ]
  },
  {
   "cell_type": "code",
   "execution_count": 283,
   "id": "b7759127-0669-4f94-b8f9-8a3af95c5eb3",
   "metadata": {},
   "outputs": [],
   "source": [
    "control_count_result.to_excel(PATH_CLEAN_DATA + 'Статистика по выбросам.xlsx', index=False)"
   ]
  },
  {
   "cell_type": "code",
   "execution_count": 288,
   "id": "fd288ab6-cb0b-4bce-ab93-f4b131822cd6",
   "metadata": {},
   "outputs": [],
   "source": [
    "df_23 = df[df['Имя файла'].str.contains('2023')]\n",
    "df_24 = df[df['Имя файла'].str.contains('2024')]\n",
    "\n",
    "df_23.to_excel(PATH_CLEAN_DATA + 'Итог 2023.xlsx', index=False)\n",
    "df_24.to_excel(PATH_CLEAN_DATA + 'Итог 2024.xlsx', index=False)"
   ]
  },
  {
   "cell_type": "code",
   "execution_count": 289,
   "id": "f3851799-6790-4566-88a2-baecfa006e26",
   "metadata": {},
   "outputs": [],
   "source": [
    "df_clean_23 = df_23.drop_duplicates('Уникальный номер')\n",
    "df_clean_24 = df_24.drop_duplicates('Уникальный номер')\n",
    "\n",
    "df_clean_23.to_excel(PATH_CLEAN_DATA + 'Итог(без дублей) 2023.xlsx', index=False)\n",
    "df_clean_24.to_excel(PATH_CLEAN_DATA + 'Итог(без дублей) 2024.xlsx', index=False)"
   ]
  },
  {
   "cell_type": "code",
   "execution_count": null,
   "id": "8243c711-2ec0-4a80-a80d-f34b7990b6ce",
   "metadata": {},
   "outputs": [],
   "source": [
    "df_unique_23 = df_23.groupby('Имя файла').apply(lambda x: x.drop_duplicates(subset='Уникальный номер'), include_groups=False).reset_index(drop=True)\n",
    "df_unique_24 = df_24.groupby('Имя файла').apply(lambda x: x.drop_duplicates(subset='Уникальный номер'), include_groups=False).reset_index(drop=True)\n",
    "\n",
    "df_unique_23.to_excel(PATH_CLEAN_DATA + 'Итог(без дублей по месяцам) 2023.xlsx', index=False)\n",
    "df_unique_24.to_excel(PATH_CLEAN_DATA + 'Итог(без дублей по месяцам) 2024.xlsx', index=False)"
   ]
  }
 ],
 "metadata": {
  "kernelspec": {
   "display_name": "Python (py310)",
   "language": "python",
   "name": "py310"
  },
  "language_info": {
   "codemirror_mode": {
    "name": "ipython",
    "version": 3
   },
   "file_extension": ".py",
   "mimetype": "text/x-python",
   "name": "python",
   "nbconvert_exporter": "python",
   "pygments_lexer": "ipython3",
   "version": "3.10.14"
  }
 },
 "nbformat": 4,
 "nbformat_minor": 5
}
